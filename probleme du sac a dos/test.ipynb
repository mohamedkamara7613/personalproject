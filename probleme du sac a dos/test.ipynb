{
 "cells": [
  {
   "cell_type": "code",
   "execution_count": 6,
   "metadata": {},
   "outputs": [],
   "source": [
    "def sac(masses, prix, masseMax):\n",
    "    # Dictionnaire pour stocker les solutions déjà calculées\n",
    "    dejaVu = {}\n",
    "\n",
    "    # Fonction pour calculer le prix d'un sac (combinaison de choix)\n",
    "    def prixChoix(choix): # choix est une liste de 0 ou de 1\n",
    "        S = 0\n",
    "        n = len(prix)\n",
    "        for i in range(n):\n",
    "            S += choix[i] * prix[i]\n",
    "        return S\n",
    "\n",
    "    # Fonction de recherche pour déterminer les choix optimaux\n",
    "    def recherche(k, mMax):\n",
    "        # Vérifie si la clé (k, mMax) est déjà dans le dictionnaire\n",
    "        if (k, mMax) in dejaVu:\n",
    "            return\n",
    "\n",
    "        # Cas de base : un seul objet\n",
    "        if k == 1:\n",
    "            if masses[0] <= mMax:\n",
    "                dejaVu[(1, mMax)] = [1]\n",
    "            else:\n",
    "                dejaVu[(1, mMax)] = [0]\n",
    "        else:\n",
    "            # Cas où la masse du dernier objet est supérieure à mMax\n",
    "            if masses[k - 1] > mMax:\n",
    "                recherche(k - 1, mMax)\n",
    "                New = dejaVu[(k - 1, mMax)] + [0]\n",
    "                dejaVu[(k, mMax)] = New\n",
    "            else:\n",
    "                # Cas où l'on peut inclure ou exclure l'objet k-1\n",
    "                recherche(k - 1, mMax)\n",
    "                recherche(k - 1, mMax - masses[k - 1])\n",
    "\n",
    "                a = prixChoix(dejaVu[(k - 1, mMax)])\n",
    "                b = prixChoix(dejaVu[(k - 1, mMax - masses[k - 1])]) + prix[k - 1]\n",
    "\n",
    "                if a >= b:\n",
    "                    New = dejaVu[(k - 1, mMax)] + [0]\n",
    "                else:\n",
    "                    New = dejaVu[(k - 1, mMax - masses[k - 1])] + [1]\n",
    "\n",
    "                dejaVu[(k, mMax)] = New"
   ]
  },
  {
   "cell_type": "code",
   "execution_count": 8,
   "metadata": {},
   "outputs": [],
   "source": [
    "objets = [(20, 25), (13, 16)]\n",
    "masses = 25, 16\n",
    "prix = 20, 25\n",
    "masse_max = 100\n",
    "\n",
    "sac(masses, prix, masse_max)"
   ]
  }
 ],
 "metadata": {
  "kernelspec": {
   "display_name": "Python 3",
   "language": "python",
   "name": "python3"
  },
  "language_info": {
   "codemirror_mode": {
    "name": "ipython",
    "version": 3
   },
   "file_extension": ".py",
   "mimetype": "text/x-python",
   "name": "python",
   "nbconvert_exporter": "python",
   "pygments_lexer": "ipython3",
   "version": "3.12.3"
  }
 },
 "nbformat": 4,
 "nbformat_minor": 2
}
